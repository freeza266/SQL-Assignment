{
 "cells": [
  {
   "cell_type": "code",
   "execution_count": null,
   "id": "ccc43620",
   "metadata": {},
   "outputs": [],
   "source": [
    "Q1. Write an SQL query to print details of workers excluding first names, “Vipul” and\n",
    "“Satish” from Worker table.\n"
   ]
  },
  {
   "cell_type": "code",
   "execution_count": null,
   "id": "533541b1",
   "metadata": {},
   "outputs": [],
   "source": [
    "#Answer:\n",
    "SELECT * FROM Worker WHERE FIRST_NAME NOT IN ('Vipul','Satish');"
   ]
  },
  {
   "cell_type": "code",
   "execution_count": null,
   "id": "8b830deb",
   "metadata": {},
   "outputs": [],
   "source": [
    "Q2. Write an SQL query to print details of the Workers whose FIRST_NAME ends with ‘h’ and contains six alphabets.\n"
   ]
  },
  {
   "cell_type": "code",
   "execution_count": null,
   "id": "17ebca12",
   "metadata": {},
   "outputs": [],
   "source": [
    "#Answer:\n",
    "SELECT * FROM Worker WHERE FIRST_NAME LIKE '______h';"
   ]
  },
  {
   "cell_type": "code",
   "execution_count": null,
   "id": "9d2c67f0",
   "metadata": {},
   "outputs": [],
   "source": [
    "Q3. Write a query to validate Email of Employee."
   ]
  },
  {
   "cell_type": "code",
   "execution_count": null,
   "id": "b8a45859",
   "metadata": {},
   "outputs": [],
   "source": [
    "#Answer:\n",
    "SELECT * FROM Worker WHERE email LIKE \"_%@_%._%\""
   ]
  }
 ],
 "metadata": {
  "kernelspec": {
   "display_name": "Python 3",
   "language": "python",
   "name": "python3"
  },
  "language_info": {
   "codemirror_mode": {
    "name": "ipython",
    "version": 3
   },
   "file_extension": ".py",
   "mimetype": "text/x-python",
   "name": "python",
   "nbconvert_exporter": "python",
   "pygments_lexer": "ipython3",
   "version": "3.8.8"
  }
 },
 "nbformat": 4,
 "nbformat_minor": 5
}
