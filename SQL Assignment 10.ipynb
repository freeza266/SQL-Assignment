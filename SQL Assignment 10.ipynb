{
 "cells": [
  {
   "cell_type": "code",
   "execution_count": null,
   "id": "0a484b2b",
   "metadata": {},
   "outputs": [],
   "source": [
    "Q-19. Write an SQL query to determine the 5th highest salary without using TOP or limit\n",
    "method.\n"
   ]
  },
  {
   "cell_type": "code",
   "execution_count": null,
   "id": "325c39e3",
   "metadata": {},
   "outputs": [],
   "source": [
    "#Answer:\n",
    "SELECT * FROM (SELECT ROW_NUMBER() OVER (ORDER BY salary DESC) AS R_NUM, first_name, salary FROM employee) as HEllO WHERE R_NUM=5;"
   ]
  },
  {
   "cell_type": "code",
   "execution_count": null,
   "id": "9766d272",
   "metadata": {},
   "outputs": [],
   "source": [
    "Q-20. Write an SQL query to fetch the list of employees with the same salary."
   ]
  },
  {
   "cell_type": "code",
   "execution_count": null,
   "id": "7e83ce8c",
   "metadata": {},
   "outputs": [],
   "source": [
    "#Answer:\n",
    "CREATE TABLE employee (\n",
    "    emp_id INT PRIMARY KEY AUTO_INCREMENT NOT NULL,\n",
    "    first_name VARCHAR(20),\n",
    "    last_name VARCHAR(20),\n",
    "    salary INT\n",
    ");\n",
    "\n",
    "INSERT INTO employee VALUES\n",
    "(1,'Aditya','Satam',1500),\n",
    "(2,'Gaurav','Satam',2000),\n",
    "(3,'Sada','Satam',500),\n",
    "(4,'Snehal','Satam',1750),\n",
    "(5,'Mayur','Rane',1500),\n",
    "(6,'Manas','Patil',1750);\n",
    "\n",
    "SELECT * FROM employee ORDER BY salary ASC;"
   ]
  }
 ],
 "metadata": {
  "kernelspec": {
   "display_name": "Python 3",
   "language": "python",
   "name": "python3"
  },
  "language_info": {
   "codemirror_mode": {
    "name": "ipython",
    "version": 3
   },
   "file_extension": ".py",
   "mimetype": "text/x-python",
   "name": "python",
   "nbconvert_exporter": "python",
   "pygments_lexer": "ipython3",
   "version": "3.8.8"
  }
 },
 "nbformat": 4,
 "nbformat_minor": 5
}
