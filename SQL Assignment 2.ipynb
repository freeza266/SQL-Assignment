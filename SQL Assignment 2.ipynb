{
 "cells": [
  {
   "cell_type": "code",
   "execution_count": null,
   "id": "910ffdbb",
   "metadata": {},
   "outputs": [],
   "source": [
    "Q1. Write an SQL query to print the first three characters of FIRST_NAME from Worker table."
   ]
  },
  {
   "cell_type": "code",
   "execution_count": null,
   "id": "b0427ccf",
   "metadata": {},
   "outputs": [],
   "source": [
    "#Answer:\n",
    "SELECT SUBSTRING(FIRST_NAME,1,3) FROM Worker;"
   ]
  },
  {
   "cell_type": "code",
   "execution_count": null,
   "id": "63f926c0",
   "metadata": {},
   "outputs": [],
   "source": [
    "Q2. Write an SQL query to find the position of the alphabet (‘a’) in the first name\n",
    "column ‘Amitabh’ from Worker table."
   ]
  },
  {
   "cell_type": "code",
   "execution_count": null,
   "id": "a1bb2897",
   "metadata": {},
   "outputs": [],
   "source": [
    "#Answer:\n",
    "SELECT POSITION('a' IN FIRST_NAME) FROM Worker WHERE FIRST_NAME = 'Amitabh';"
   ]
  },
  {
   "cell_type": "code",
   "execution_count": null,
   "id": "1460877f",
   "metadata": {},
   "outputs": [],
   "source": [
    "Q3. Write an SQL query to print the name of employees having the highest salary in each\n",
    "department."
   ]
  },
  {
   "cell_type": "code",
   "execution_count": null,
   "id": "564344ac",
   "metadata": {},
   "outputs": [],
   "source": [
    "#Answer:\n",
    "SELECT first_name, last_name, salary, department FROM Worker w WHERE salary = (SELECT MAX(salary) FROM Worker WHERE department = w.department)"
   ]
  }
 ],
 "metadata": {
  "kernelspec": {
   "display_name": "Python 3",
   "language": "python",
   "name": "python3"
  },
  "language_info": {
   "codemirror_mode": {
    "name": "ipython",
    "version": 3
   },
   "file_extension": ".py",
   "mimetype": "text/x-python",
   "name": "python",
   "nbconvert_exporter": "python",
   "pygments_lexer": "ipython3",
   "version": "3.8.8"
  }
 },
 "nbformat": 4,
 "nbformat_minor": 5
}
