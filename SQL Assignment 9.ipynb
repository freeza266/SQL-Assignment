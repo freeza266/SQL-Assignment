{
 "cells": [
  {
   "cell_type": "code",
   "execution_count": null,
   "id": "badfdb05",
   "metadata": {},
   "outputs": [],
   "source": [
    "Q17. Write an SQL query to show the top n (say 10) records of a table.\n"
   ]
  },
  {
   "cell_type": "code",
   "execution_count": null,
   "id": "47c01158",
   "metadata": {},
   "outputs": [],
   "source": [
    "#Answer:\n",
    "SELECT TOP 10 * FROM Worker;"
   ]
  },
  {
   "cell_type": "code",
   "execution_count": null,
   "id": "76733bfa",
   "metadata": {},
   "outputs": [],
   "source": [
    "Q18. Write an SQL query to determine the nth (say n=5) highest salary from a table."
   ]
  },
  {
   "cell_type": "code",
   "execution_count": null,
   "id": "37730729",
   "metadata": {},
   "outputs": [],
   "source": [
    "#Answer:\n",
    "SELECT DISTINCT(Salary) FROM Worker\n",
    "ORDER BY DESC\n",
    "LIMIT 1 \n",
    "OFFSET 5;"
   ]
  }
 ],
 "metadata": {
  "kernelspec": {
   "display_name": "Python 3",
   "language": "python",
   "name": "python3"
  },
  "language_info": {
   "codemirror_mode": {
    "name": "ipython",
    "version": 3
   },
   "file_extension": ".py",
   "mimetype": "text/x-python",
   "name": "python",
   "nbconvert_exporter": "python",
   "pygments_lexer": "ipython3",
   "version": "3.8.8"
  }
 },
 "nbformat": 4,
 "nbformat_minor": 5
}
