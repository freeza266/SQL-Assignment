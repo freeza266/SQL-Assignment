{
 "cells": [
  {
   "cell_type": "code",
   "execution_count": null,
   "id": "67d06e4e",
   "metadata": {},
   "outputs": [],
   "source": [
    "Q13. Write an SQL query to show only odd rows from a table.\n"
   ]
  },
  {
   "cell_type": "code",
   "execution_count": null,
   "id": "bd0755bb",
   "metadata": {},
   "outputs": [],
   "source": [
    "#Answer:\n",
    "SELECT * FROM Worker Where MOD(worker_id,2) = 1"
   ]
  },
  {
   "cell_type": "code",
   "execution_count": null,
   "id": "91f38c0c",
   "metadata": {},
   "outputs": [],
   "source": [
    "Q14. Write an SQL query to clone a new table from another table."
   ]
  },
  {
   "cell_type": "code",
   "execution_count": null,
   "id": "2034d084",
   "metadata": {},
   "outputs": [],
   "source": [
    "#Answer:\n",
    "# Code to Create a New table\n",
    "CREATE TABLE Worker2 (\n",
    "    WORKER_ID INT NOT NULL AUTO INCREMENT PRIMARY KEY,\n",
    "    FIRST_NAME VARCHAR(20),\n",
    "    LAST_NAME VARCHAR(20),\n",
    "    SALARY INT,\n",
    "    DEPARTMENT VARCHAR(20),\n",
    "    JOINING_DATE DATETIME);\n",
    "\n",
    "# Code to Clone content of a table to another table i.e Worker2:\n",
    "INSERT INTO Worker2 SELECT * FROM Worker;"
   ]
  }
 ],
 "metadata": {
  "kernelspec": {
   "display_name": "Python 3",
   "language": "python",
   "name": "python3"
  },
  "language_info": {
   "codemirror_mode": {
    "name": "ipython",
    "version": 3
   },
   "file_extension": ".py",
   "mimetype": "text/x-python",
   "name": "python",
   "nbconvert_exporter": "python",
   "pygments_lexer": "ipython3",
   "version": "3.8.8"
  }
 },
 "nbformat": 4,
 "nbformat_minor": 5
}
