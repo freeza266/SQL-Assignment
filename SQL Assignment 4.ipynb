{
 "cells": [
  {
   "cell_type": "code",
   "execution_count": null,
   "id": "7bce983f",
   "metadata": {},
   "outputs": [],
   "source": [
    "Q1. Write an SQL query to print the FIRST_NAME from Worker table after replacing ‘a’\n",
    "with ‘A’.\n"
   ]
  },
  {
   "cell_type": "code",
   "execution_count": null,
   "id": "d2085abe",
   "metadata": {},
   "outputs": [],
   "source": [
    "#Answer:\n",
    "SELECT REPLACE(FIRST_NAME,'a','A') FROM Wokrer;"
   ]
  },
  {
   "cell_type": "code",
   "execution_count": null,
   "id": "8a3bfc41",
   "metadata": {},
   "outputs": [],
   "source": [
    "Q2. Write an SQL query to print all Worker details from the Worker table order by\n",
    "FIRST_NAME Ascending and DEPARTMENT Descending.\n"
   ]
  },
  {
   "cell_type": "code",
   "execution_count": null,
   "id": "337cc3e9",
   "metadata": {},
   "outputs": [],
   "source": [
    "#Answer:\n",
    "SELECT * FROM Worker ORDER BY FIRST_NAME ASC, LAST_NAME DESC;"
   ]
  },
  {
   "cell_type": "code",
   "execution_count": null,
   "id": "ebec9ad3",
   "metadata": {},
   "outputs": [],
   "source": [
    "Q3. Write an SQL query to fetch the names of workers who earn the highest salary."
   ]
  },
  {
   "cell_type": "code",
   "execution_count": null,
   "id": "afdcb4c5",
   "metadata": {},
   "outputs": [],
   "source": [
    "#Answer:\n",
    "SELECT FIRST_NAME, LAST_NAME FROM Worker WHERE SALARY = (SELECT MAX(SALARY) FROM Worker);"
   ]
  }
 ],
 "metadata": {
  "kernelspec": {
   "display_name": "Python 3",
   "language": "python",
   "name": "python3"
  },
  "language_info": {
   "codemirror_mode": {
    "name": "ipython",
    "version": 3
   },
   "file_extension": ".py",
   "mimetype": "text/x-python",
   "name": "python",
   "nbconvert_exporter": "python",
   "pygments_lexer": "ipython3",
   "version": "3.8.8"
  }
 },
 "nbformat": 4,
 "nbformat_minor": 5
}
