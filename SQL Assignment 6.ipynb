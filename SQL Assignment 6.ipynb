{
 "cells": [
  {
   "cell_type": "code",
   "execution_count": null,
   "id": "91dc261b",
   "metadata": {},
   "outputs": [],
   "source": [
    "Q-1. Write an SQL query to print details of the Workers who have joined in Feb’2014.\n"
   ]
  },
  {
   "cell_type": "code",
   "execution_count": null,
   "id": "860cc130",
   "metadata": {},
   "outputs": [],
   "source": [
    "#Answer:\n",
    "SELECT * FROM Worker WHERE JOINING_DATE LIKE \"%2014-02%\""
   ]
  },
  {
   "cell_type": "code",
   "execution_count": null,
   "id": "8b0cc57f",
   "metadata": {},
   "outputs": [],
   "source": [
    "Q-2. Write an SQL query to fetch duplicate records having matching data in some fields of a table.\n"
   ]
  },
  {
   "cell_type": "code",
   "execution_count": null,
   "id": "83fac0dd",
   "metadata": {},
   "outputs": [],
   "source": [
    "#Answer:\n",
    "SELECT column_name, COUNT(column_name) FROM Worker GROUP BY FEILD HAVING COUNT(column_name) > 1;"
   ]
  },
  {
   "cell_type": "code",
   "execution_count": null,
   "id": "d6d718cb",
   "metadata": {},
   "outputs": [],
   "source": [
    "Q-3. How to remove duplicate rows from Employees table."
   ]
  },
  {
   "cell_type": "code",
   "execution_count": null,
   "id": "11836a17",
   "metadata": {},
   "outputs": [],
   "source": [
    "#Answer:\n",
    "CREATE TABLE Employee (\n",
    "    ID INT PRIMARY KEY AUTO_INCREMENT NOT NULL,\n",
    "    FIRST_NAME VARCHAR(50),\n",
    "    LAST_NAME VARCHAR(50),\n",
    "    COUNTRY VARCHAR(50)\n",
    ");\n",
    "INSERT INTO Employee VALUES \n",
    "(1,'Gaurav','Satam','MUMBAI'),\n",
    "(2,'Gaurav','Satam','MUMBAI'),\n",
    "(3,'Gaurav','Satam','MUMBAI'),\n",
    "(4,'Aditya','Patil','Ireland'),\n",
    "(5,'Aditya','Patil','Ireland'),\n",
    "(6,'Aditya','Patil','Ireland');\n",
    "\n",
    "DELETE e1.* from Employee e1 INNER JOIN Employee e2 WHERE e1.id > e2.id AND e1.FIRST_NAME = e2.FIRST_NAME AND e1.LAST_NAME = e2.LAST_NAME AND e1.COUNTRY = e2.COUNTRY"
   ]
  }
 ],
 "metadata": {
  "kernelspec": {
   "display_name": "Python 3",
   "language": "python",
   "name": "python3"
  },
  "language_info": {
   "codemirror_mode": {
    "name": "ipython",
    "version": 3
   },
   "file_extension": ".py",
   "mimetype": "text/x-python",
   "name": "python",
   "nbconvert_exporter": "python",
   "pygments_lexer": "ipython3",
   "version": "3.8.8"
  }
 },
 "nbformat": 4,
 "nbformat_minor": 5
}
